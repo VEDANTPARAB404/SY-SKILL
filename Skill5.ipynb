{
  "nbformat": 4,
  "nbformat_minor": 0,
  "metadata": {
    "colab": {
      "provenance": [],
      "authorship_tag": "ABX9TyMd0M8XU+RNKOMfya6cLrJO",
      "include_colab_link": true
    },
    "kernelspec": {
      "name": "python3",
      "display_name": "Python 3"
    },
    "language_info": {
      "name": "python"
    }
  },
  "cells": [
    {
      "cell_type": "markdown",
      "metadata": {
        "id": "view-in-github",
        "colab_type": "text"
      },
      "source": [
        "<a href=\"https://colab.research.google.com/github/VEDANTPARAB404/SY-SKILL/blob/main/Skill5.ipynb\" target=\"_parent\"><img src=\"https://colab.research.google.com/assets/colab-badge.svg\" alt=\"Open In Colab\"/></a>"
      ]
    },
    {
      "cell_type": "markdown",
      "source": [
        "WRAPPING METHODS\n"
      ],
      "metadata": {
        "id": "X_UJsINb9Rha"
      }
    },
    {
      "cell_type": "code",
      "source": [
        "import numpy as np\n",
        "import pandas as pd\n",
        "from sklearn.datasets import load_iris\n",
        "from sklearn.model_selection import train_test_split\n",
        "from sklearn.linear_model import LogisticRegression\n",
        "from sklearn.feature_selection import RFE\n",
        "from mlxtend.feature_selection import SequentialFeatureSelector as SFS\n",
        "\n",
        "# Load Iris Dataset\n",
        "iris = load_iris()\n",
        "X = pd.DataFrame(iris.data, columns=iris.feature_names)\n",
        "y = iris.target\n",
        "\n",
        "# Split Data\n",
        "X_train, X_test, y_train, y_test = train_test_split(X, y, test_size=0.2, random_state=42)\n",
        "\n",
        "# Initialize Logistic Regression Model\n",
        "model = LogisticRegression(max_iter=200)\n"
      ],
      "metadata": {
        "id": "HyxDm4MK9To2"
      },
      "execution_count": 2,
      "outputs": []
    },
    {
      "cell_type": "markdown",
      "source": [
        "FORWARD FEATURE SELECTION"
      ],
      "metadata": {
        "id": "sjJ4K7fj-TD2"
      }
    },
    {
      "cell_type": "code",
      "source": [
        "sfs_forward = SFS(model,\n",
        "                  k_features=2,\n",
        "                  forward=True,\n",
        "                  floating=False,\n",
        "                  scoring='accuracy',\n",
        "                  cv=5)\n",
        "\n",
        "sfs_forward.fit(X_train, y_train)\n",
        "print(\"Selected Features (Forward Selection):\", list(sfs_forward.k_feature_names_))\n"
      ],
      "metadata": {
        "colab": {
          "base_uri": "https://localhost:8080/"
        },
        "id": "QdeCgQ2T9rAG",
        "outputId": "dd1ac8d5-bc99-4d8e-a62a-648306fd2739"
      },
      "execution_count": 5,
      "outputs": [
        {
          "output_type": "stream",
          "name": "stdout",
          "text": [
            "Selected Features (Forward Selection): ['petal length (cm)', 'petal width (cm)']\n"
          ]
        }
      ]
    },
    {
      "cell_type": "markdown",
      "source": [
        "BACKWARD ELIMINATION METHOD"
      ],
      "metadata": {
        "id": "ZPfnMUiV-Xz1"
      }
    },
    {
      "cell_type": "code",
      "source": [
        "sfs_backward = SFS(model,\n",
        "                   k_features=2,\n",
        "                   forward=False,\n",
        "                   floating=False,\n",
        "                   scoring='accuracy',\n",
        "                   cv=5)\n",
        "\n",
        "sfs_backward.fit(X_train, y_train)\n",
        "print(\"Selected Features (Backward Elimination):\", list(sfs_backward.k_feature_names_))\n"
      ],
      "metadata": {
        "colab": {
          "base_uri": "https://localhost:8080/"
        },
        "id": "PAmZR-V895-S",
        "outputId": "e0bd9dba-c66c-40af-8fb4-f4774c0f982e"
      },
      "execution_count": 6,
      "outputs": [
        {
          "output_type": "stream",
          "name": "stdout",
          "text": [
            "Selected Features (Backward Elimination): ['petal length (cm)', 'petal width (cm)']\n"
          ]
        }
      ]
    },
    {
      "cell_type": "markdown",
      "source": [
        "RECURSIVE FEATURE ELIMINATION"
      ],
      "metadata": {
        "id": "wzqPrzIH-fgp"
      }
    },
    {
      "cell_type": "code",
      "source": [
        "rfe = RFE(model, n_features_to_select=2)\n",
        "rfe.fit(X_train, y_train)\n",
        "\n",
        "selected_features = X_train.columns[rfe.support_]\n",
        "print(\"Selected Features (RFE):\", list(selected_features))\n"
      ],
      "metadata": {
        "colab": {
          "base_uri": "https://localhost:8080/"
        },
        "id": "k2zC2TdI-AyC",
        "outputId": "fc4ffe09-2857-49d5-e8a8-4e1f0f4bb8f1"
      },
      "execution_count": 7,
      "outputs": [
        {
          "output_type": "stream",
          "name": "stdout",
          "text": [
            "Selected Features (RFE): ['petal length (cm)', 'petal width (cm)']\n"
          ]
        }
      ]
    }
  ]
}